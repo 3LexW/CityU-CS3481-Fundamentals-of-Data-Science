{
 "cells": [
  {
   "cell_type": "markdown",
   "metadata": {},
   "source": [
    "# Import Required Packages"
   ]
  },
  {
   "cell_type": "code",
   "execution_count": 1,
   "metadata": {
    "scrolled": true
   },
   "outputs": [],
   "source": [
    "from sklearn import tree\n",
    "from sklearn import preprocessing\n",
    "from sklearn.model_selection import train_test_split\n",
    "from sklearn.metrics import accuracy_score\n",
    "from sklearn.metrics import plot_confusion_matrix\n",
    "import pandas as pd\n",
    "import numpy as np\n",
    "import graphviz\n",
    "import matplotlib.pyplot as plt \n",
    "import os"
   ]
  },
  {
   "cell_type": "code",
   "execution_count": 28,
   "metadata": {},
   "outputs": [],
   "source": [
    "dirs = ('tree', 'confusion-matrix', 'excel')\n",
    "\n",
    "for dir in dirs:\n",
    "    try:\n",
    "        os.mkdir(dir)\n",
    "    except:\n",
    "        pass"
   ]
  },
  {
   "cell_type": "markdown",
   "metadata": {},
   "source": [
    "# Load Data, check if things are valid, and get some basic information of the dataframe"
   ]
  },
  {
   "cell_type": "code",
   "execution_count": 3,
   "metadata": {},
   "outputs": [
    {
     "data": {
      "text/html": [
       "<div>\n",
       "<style scoped>\n",
       "    .dataframe tbody tr th:only-of-type {\n",
       "        vertical-align: middle;\n",
       "    }\n",
       "\n",
       "    .dataframe tbody tr th {\n",
       "        vertical-align: top;\n",
       "    }\n",
       "\n",
       "    .dataframe thead th {\n",
       "        text-align: right;\n",
       "    }\n",
       "</style>\n",
       "<table border=\"1\" class=\"dataframe\">\n",
       "  <thead>\n",
       "    <tr style=\"text-align: right;\">\n",
       "      <th></th>\n",
       "      <th>Pelvic Incidence</th>\n",
       "      <th>Pelvic Tilt</th>\n",
       "      <th>Lumbar Lordosis Angle</th>\n",
       "      <th>Sacral Slope</th>\n",
       "      <th>Pelvic Radius</th>\n",
       "      <th>Grade of Spondylolisthesis</th>\n",
       "      <th>Class</th>\n",
       "    </tr>\n",
       "  </thead>\n",
       "  <tbody>\n",
       "    <tr>\n",
       "      <th>0</th>\n",
       "      <td>39.06</td>\n",
       "      <td>10.06</td>\n",
       "      <td>25.02</td>\n",
       "      <td>29.00</td>\n",
       "      <td>114.41</td>\n",
       "      <td>4.56</td>\n",
       "      <td>DH</td>\n",
       "    </tr>\n",
       "    <tr>\n",
       "      <th>1</th>\n",
       "      <td>68.83</td>\n",
       "      <td>22.22</td>\n",
       "      <td>50.09</td>\n",
       "      <td>46.61</td>\n",
       "      <td>105.99</td>\n",
       "      <td>-3.53</td>\n",
       "      <td>DH</td>\n",
       "    </tr>\n",
       "    <tr>\n",
       "      <th>2</th>\n",
       "      <td>69.30</td>\n",
       "      <td>24.65</td>\n",
       "      <td>44.31</td>\n",
       "      <td>44.64</td>\n",
       "      <td>101.87</td>\n",
       "      <td>11.21</td>\n",
       "      <td>DH</td>\n",
       "    </tr>\n",
       "    <tr>\n",
       "      <th>3</th>\n",
       "      <td>49.71</td>\n",
       "      <td>9.65</td>\n",
       "      <td>28.32</td>\n",
       "      <td>40.06</td>\n",
       "      <td>108.17</td>\n",
       "      <td>7.92</td>\n",
       "      <td>DH</td>\n",
       "    </tr>\n",
       "    <tr>\n",
       "      <th>4</th>\n",
       "      <td>40.25</td>\n",
       "      <td>13.92</td>\n",
       "      <td>25.12</td>\n",
       "      <td>26.33</td>\n",
       "      <td>130.33</td>\n",
       "      <td>2.23</td>\n",
       "      <td>DH</td>\n",
       "    </tr>\n",
       "  </tbody>\n",
       "</table>\n",
       "</div>"
      ],
      "text/plain": [
       "   Pelvic Incidence  Pelvic Tilt  Lumbar Lordosis Angle  Sacral Slope  \\\n",
       "0             39.06        10.06                  25.02         29.00   \n",
       "1             68.83        22.22                  50.09         46.61   \n",
       "2             69.30        24.65                  44.31         44.64   \n",
       "3             49.71         9.65                  28.32         40.06   \n",
       "4             40.25        13.92                  25.12         26.33   \n",
       "\n",
       "   Pelvic Radius  Grade of Spondylolisthesis Class  \n",
       "0         114.41                        4.56    DH  \n",
       "1         105.99                       -3.53    DH  \n",
       "2         101.87                       11.21    DH  \n",
       "3         108.17                        7.92    DH  \n",
       "4         130.33                        2.23    DH  "
      ]
     },
     "execution_count": 3,
     "metadata": {},
     "output_type": "execute_result"
    }
   ],
   "source": [
    "data = pd.read_csv('./column_3C.csv',header=1)\n",
    "data.columns = ['Pelvic Incidence', 'Pelvic Tilt', 'Lumbar Lordosis Angle', 'Sacral Slope', 'Pelvic Radius', 'Grade of Spondylolisthesis', 'Class']\n",
    "data.head()"
   ]
  },
  {
   "cell_type": "code",
   "execution_count": 4,
   "metadata": {},
   "outputs": [
    {
     "data": {
      "text/html": [
       "<div>\n",
       "<style scoped>\n",
       "    .dataframe tbody tr th:only-of-type {\n",
       "        vertical-align: middle;\n",
       "    }\n",
       "\n",
       "    .dataframe tbody tr th {\n",
       "        vertical-align: top;\n",
       "    }\n",
       "\n",
       "    .dataframe thead th {\n",
       "        text-align: right;\n",
       "    }\n",
       "</style>\n",
       "<table border=\"1\" class=\"dataframe\">\n",
       "  <thead>\n",
       "    <tr style=\"text-align: right;\">\n",
       "      <th></th>\n",
       "      <th>Pelvic Incidence</th>\n",
       "      <th>Pelvic Tilt</th>\n",
       "      <th>Lumbar Lordosis Angle</th>\n",
       "      <th>Sacral Slope</th>\n",
       "      <th>Pelvic Radius</th>\n",
       "      <th>Grade of Spondylolisthesis</th>\n",
       "      <th>Class</th>\n",
       "    </tr>\n",
       "  </thead>\n",
       "  <tbody>\n",
       "    <tr>\n",
       "      <th>304</th>\n",
       "      <td>47.90</td>\n",
       "      <td>13.62</td>\n",
       "      <td>36.00</td>\n",
       "      <td>34.29</td>\n",
       "      <td>117.45</td>\n",
       "      <td>-4.25</td>\n",
       "      <td>NO</td>\n",
       "    </tr>\n",
       "    <tr>\n",
       "      <th>305</th>\n",
       "      <td>53.94</td>\n",
       "      <td>20.72</td>\n",
       "      <td>29.22</td>\n",
       "      <td>33.22</td>\n",
       "      <td>114.37</td>\n",
       "      <td>-0.42</td>\n",
       "      <td>NO</td>\n",
       "    </tr>\n",
       "    <tr>\n",
       "      <th>306</th>\n",
       "      <td>61.45</td>\n",
       "      <td>22.69</td>\n",
       "      <td>46.17</td>\n",
       "      <td>38.75</td>\n",
       "      <td>125.67</td>\n",
       "      <td>-2.71</td>\n",
       "      <td>NO</td>\n",
       "    </tr>\n",
       "    <tr>\n",
       "      <th>307</th>\n",
       "      <td>45.25</td>\n",
       "      <td>8.69</td>\n",
       "      <td>41.58</td>\n",
       "      <td>36.56</td>\n",
       "      <td>118.55</td>\n",
       "      <td>0.21</td>\n",
       "      <td>NO</td>\n",
       "    </tr>\n",
       "    <tr>\n",
       "      <th>308</th>\n",
       "      <td>33.84</td>\n",
       "      <td>5.07</td>\n",
       "      <td>36.64</td>\n",
       "      <td>28.77</td>\n",
       "      <td>123.95</td>\n",
       "      <td>-0.20</td>\n",
       "      <td>NO</td>\n",
       "    </tr>\n",
       "  </tbody>\n",
       "</table>\n",
       "</div>"
      ],
      "text/plain": [
       "     Pelvic Incidence  Pelvic Tilt  Lumbar Lordosis Angle  Sacral Slope  \\\n",
       "304             47.90        13.62                  36.00         34.29   \n",
       "305             53.94        20.72                  29.22         33.22   \n",
       "306             61.45        22.69                  46.17         38.75   \n",
       "307             45.25         8.69                  41.58         36.56   \n",
       "308             33.84         5.07                  36.64         28.77   \n",
       "\n",
       "     Pelvic Radius  Grade of Spondylolisthesis Class  \n",
       "304         117.45                       -4.25    NO  \n",
       "305         114.37                       -0.42    NO  \n",
       "306         125.67                       -2.71    NO  \n",
       "307         118.55                        0.21    NO  \n",
       "308         123.95                       -0.20    NO  "
      ]
     },
     "execution_count": 4,
     "metadata": {},
     "output_type": "execute_result"
    }
   ],
   "source": [
    "data.tail()"
   ]
  },
  {
   "cell_type": "markdown",
   "metadata": {},
   "source": [
    "We can understand that there are 308 rows of records, where the class is in order of \"DH\", \"SL\", and \"NO\"\n",
    "\n",
    "---"
   ]
  },
  {
   "cell_type": "markdown",
   "metadata": {},
   "source": [
    "# Construction of the first model\n",
    "We construct the first model to understand the loop for model parameters in the next part\n",
    "### Split the data into test set and train set"
   ]
  },
  {
   "cell_type": "code",
   "execution_count": 20,
   "metadata": {},
   "outputs": [
    {
     "name": "stdout",
     "output_type": "stream",
     "text": [
      "First, we look at the parameters: \n",
      "[[39.06 10.06 25.02 29.0 114.41 4.56]\n",
      " [68.83 22.22 50.09 46.61 105.99 -3.53]\n",
      " [69.3 24.65 44.31 44.64 101.87 11.21]\n",
      " [49.71 9.65 28.32 40.06 108.17 7.92]\n",
      " [40.25 13.92 25.12 26.33 130.33 2.23]]\n",
      "\n",
      "First five label are 'DH', which is labeled as: \n",
      "[0 0 0 0 0]\n",
      "\n",
      "Last five label are 'NO', which is labeled as:\n",
      "[1 1 1 1 1]\n"
     ]
    }
   ],
   "source": [
    "# First, split the data into X (the parameters) and Y (the class result)\n",
    "array = data.to_numpy()\n",
    "x, y = np.split(array, [-1], 1)\n",
    "\n",
    "training_labels = data.iloc[:, -1]\n",
    "le   = preprocessing.LabelEncoder()\n",
    "y = le.fit_transform(training_labels)\n",
    "\n",
    "print('First, we look at the parameters: ')\n",
    "print(x[:5])\n",
    "print(\"\\nFirst five label are 'DH', which is labeled as: \")\n",
    "print(y[:5])\n",
    "print(\"\\nLast five label are 'NO', which is labeled as:\")\n",
    "print(y[-5:])"
   ]
  },
  {
   "cell_type": "markdown",
   "metadata": {},
   "source": [
    "Therefore, 0 is DH, 1 is NO, and 2 is SL"
   ]
  },
  {
   "cell_type": "code",
   "execution_count": 6,
   "metadata": {},
   "outputs": [],
   "source": [
    "labels = ['DH', 'NO', 'SL']"
   ]
  },
  {
   "cell_type": "code",
   "execution_count": 14,
   "metadata": {},
   "outputs": [
    {
     "name": "stdout",
     "output_type": "stream",
     "text": [
      "(207, 6) (102, 6) (207,) (102,)\n"
     ]
    }
   ],
   "source": [
    "# Split into train set and test set of X and Y, we use the test_size = 33% of the total number of records\n",
    "x_train, x_test, y_train, y_test = train_test_split(x, y, test_size=0.33)\n",
    "print(x_train.shape, x_test.shape, y_train.shape, y_test.shape)"
   ]
  },
  {
   "cell_type": "markdown",
   "metadata": {},
   "source": [
    "### Construct the first decision Tree"
   ]
  },
  {
   "cell_type": "code",
   "execution_count": 15,
   "metadata": {},
   "outputs": [
    {
     "data": {
      "image/svg+xml": [
       "<?xml version=\"1.0\" encoding=\"UTF-8\" standalone=\"no\"?>\r\n",
       "<!DOCTYPE svg PUBLIC \"-//W3C//DTD SVG 1.1//EN\"\r\n",
       " \"http://www.w3.org/Graphics/SVG/1.1/DTD/svg11.dtd\">\r\n",
       "<!-- Generated by graphviz version 2.38.0 (20140413.2041)\r\n",
       " -->\r\n",
       "<!-- Title: Tree Pages: 1 -->\r\n",
       "<svg width=\"378pt\" height=\"314pt\"\r\n",
       " viewBox=\"0.00 0.00 378.00 314.00\" xmlns=\"http://www.w3.org/2000/svg\" xmlns:xlink=\"http://www.w3.org/1999/xlink\">\r\n",
       "<g id=\"graph0\" class=\"graph\" transform=\"scale(1 1) rotate(0) translate(4 310)\">\r\n",
       "<title>Tree</title>\r\n",
       "<polygon fill=\"white\" stroke=\"none\" points=\"-4,4 -4,-310 374,-310 374,4 -4,4\"/>\r\n",
       "<!-- 0 -->\r\n",
       "<g id=\"node1\" class=\"node\"><title>0</title>\r\n",
       "<path fill=\"#d8c1f7\" stroke=\"black\" d=\"M333.5,-306C333.5,-306 109.5,-306 109.5,-306 103.5,-306 97.5,-300 97.5,-294 97.5,-294 97.5,-235 97.5,-235 97.5,-229 103.5,-223 109.5,-223 109.5,-223 333.5,-223 333.5,-223 339.5,-223 345.5,-229 345.5,-235 345.5,-235 345.5,-294 345.5,-294 345.5,-300 339.5,-306 333.5,-306\"/>\r\n",
       "<text text-anchor=\"start\" x=\"105.5\" y=\"-290.8\" font-family=\"Helvetica,sans-Serif\" font-size=\"14.00\">Grade of Spondylolisthesis ≤ 15.155</text>\r\n",
       "<text text-anchor=\"start\" x=\"184\" y=\"-275.8\" font-family=\"Helvetica,sans-Serif\" font-size=\"14.00\">gini = 0.605</text>\r\n",
       "<text text-anchor=\"start\" x=\"174\" y=\"-260.8\" font-family=\"Helvetica,sans-Serif\" font-size=\"14.00\">samples = 207</text>\r\n",
       "<text text-anchor=\"start\" x=\"156.5\" y=\"-245.8\" font-family=\"Helvetica,sans-Serif\" font-size=\"14.00\">value = [36, 63, 108]</text>\r\n",
       "<text text-anchor=\"start\" x=\"188\" y=\"-230.8\" font-family=\"Helvetica,sans-Serif\" font-size=\"14.00\">class = SL</text>\r\n",
       "</g>\r\n",
       "<!-- 1 -->\r\n",
       "<g id=\"node2\" class=\"node\"><title>1</title>\r\n",
       "<path fill=\"#b0f5cd\" stroke=\"black\" d=\"M211,-187C211,-187 64,-187 64,-187 58,-187 52,-181 52,-175 52,-175 52,-116 52,-116 52,-110 58,-104 64,-104 64,-104 211,-104 211,-104 217,-104 223,-110 223,-116 223,-116 223,-175 223,-175 223,-181 217,-187 211,-187\"/>\r\n",
       "<text text-anchor=\"start\" x=\"60\" y=\"-171.8\" font-family=\"Helvetica,sans-Serif\" font-size=\"14.00\">Pelvic Radius ≤ 118.065</text>\r\n",
       "<text text-anchor=\"start\" x=\"100\" y=\"-156.8\" font-family=\"Helvetica,sans-Serif\" font-size=\"14.00\">gini = 0.511</text>\r\n",
       "<text text-anchor=\"start\" x=\"90\" y=\"-141.8\" font-family=\"Helvetica,sans-Serif\" font-size=\"14.00\">samples = 104</text>\r\n",
       "<text text-anchor=\"start\" x=\"81\" y=\"-126.8\" font-family=\"Helvetica,sans-Serif\" font-size=\"14.00\">value = [36, 63, 5]</text>\r\n",
       "<text text-anchor=\"start\" x=\"102.5\" y=\"-111.8\" font-family=\"Helvetica,sans-Serif\" font-size=\"14.00\">class = NO</text>\r\n",
       "</g>\r\n",
       "<!-- 0&#45;&gt;1 -->\r\n",
       "<g id=\"edge1\" class=\"edge\"><title>0&#45;&gt;1</title>\r\n",
       "<path fill=\"none\" stroke=\"black\" d=\"M192.357,-222.907C185.971,-214.014 179.148,-204.509 172.558,-195.331\"/>\r\n",
       "<polygon fill=\"black\" stroke=\"black\" points=\"175.267,-193.103 166.592,-187.021 169.581,-197.185 175.267,-193.103\"/>\r\n",
       "<text text-anchor=\"middle\" x=\"162.542\" y=\"-207.991\" font-family=\"Helvetica,sans-Serif\" font-size=\"14.00\">True</text>\r\n",
       "</g>\r\n",
       "<!-- 4 -->\r\n",
       "<g id=\"node5\" class=\"node\"><title>4</title>\r\n",
       "<path fill=\"#8139e5\" stroke=\"black\" d=\"M358,-179.5C358,-179.5 253,-179.5 253,-179.5 247,-179.5 241,-173.5 241,-167.5 241,-167.5 241,-123.5 241,-123.5 241,-117.5 247,-111.5 253,-111.5 253,-111.5 358,-111.5 358,-111.5 364,-111.5 370,-117.5 370,-123.5 370,-123.5 370,-167.5 370,-167.5 370,-173.5 364,-179.5 358,-179.5\"/>\r\n",
       "<text text-anchor=\"start\" x=\"276.5\" y=\"-164.3\" font-family=\"Helvetica,sans-Serif\" font-size=\"14.00\">gini = 0.0</text>\r\n",
       "<text text-anchor=\"start\" x=\"258\" y=\"-149.3\" font-family=\"Helvetica,sans-Serif\" font-size=\"14.00\">samples = 103</text>\r\n",
       "<text text-anchor=\"start\" x=\"249\" y=\"-134.3\" font-family=\"Helvetica,sans-Serif\" font-size=\"14.00\">value = [0, 0, 103]</text>\r\n",
       "<text text-anchor=\"start\" x=\"272\" y=\"-119.3\" font-family=\"Helvetica,sans-Serif\" font-size=\"14.00\">class = SL</text>\r\n",
       "</g>\r\n",
       "<!-- 0&#45;&gt;4 -->\r\n",
       "<g id=\"edge4\" class=\"edge\"><title>0&#45;&gt;4</title>\r\n",
       "<path fill=\"none\" stroke=\"black\" d=\"M250.643,-222.907C258.724,-211.652 267.507,-199.418 275.629,-188.106\"/>\r\n",
       "<polygon fill=\"black\" stroke=\"black\" points=\"278.699,-189.831 281.688,-179.667 273.013,-185.749 278.699,-189.831\"/>\r\n",
       "<text text-anchor=\"middle\" x=\"285.738\" y=\"-200.637\" font-family=\"Helvetica,sans-Serif\" font-size=\"14.00\">False</text>\r\n",
       "</g>\r\n",
       "<!-- 2 -->\r\n",
       "<g id=\"node3\" class=\"node\"><title>2</title>\r\n",
       "<path fill=\"#f8dbc6\" stroke=\"black\" d=\"M117,-68C117,-68 12,-68 12,-68 6,-68 0,-62 0,-56 0,-56 0,-12 0,-12 0,-6 6,-0 12,-0 12,-0 117,-0 117,-0 123,-0 129,-6 129,-12 129,-12 129,-56 129,-56 129,-62 123,-68 117,-68\"/>\r\n",
       "<text text-anchor=\"start\" x=\"27\" y=\"-52.8\" font-family=\"Helvetica,sans-Serif\" font-size=\"14.00\">gini = 0.562</text>\r\n",
       "<text text-anchor=\"start\" x=\"21\" y=\"-37.8\" font-family=\"Helvetica,sans-Serif\" font-size=\"14.00\">samples = 44</text>\r\n",
       "<text text-anchor=\"start\" x=\"8\" y=\"-22.8\" font-family=\"Helvetica,sans-Serif\" font-size=\"14.00\">value = [24, 16, 4]</text>\r\n",
       "<text text-anchor=\"start\" x=\"29.5\" y=\"-7.8\" font-family=\"Helvetica,sans-Serif\" font-size=\"14.00\">class = DH</text>\r\n",
       "</g>\r\n",
       "<!-- 1&#45;&gt;2 -->\r\n",
       "<g id=\"edge2\" class=\"edge\"><title>1&#45;&gt;2</title>\r\n",
       "<path fill=\"none\" stroke=\"black\" d=\"M110.317,-103.726C104.419,-94.879 98.1734,-85.51 92.2535,-76.6303\"/>\r\n",
       "<polygon fill=\"black\" stroke=\"black\" points=\"95.159,-74.6787 86.6997,-68.2996 89.3346,-78.5616 95.159,-74.6787\"/>\r\n",
       "</g>\r\n",
       "<!-- 3 -->\r\n",
       "<g id=\"node4\" class=\"node\"><title>3</title>\r\n",
       "<path fill=\"#6feca3\" stroke=\"black\" d=\"M264,-68C264,-68 159,-68 159,-68 153,-68 147,-62 147,-56 147,-56 147,-12 147,-12 147,-6 153,-0 159,-0 159,-0 264,-0 264,-0 270,-0 276,-6 276,-12 276,-12 276,-56 276,-56 276,-62 270,-68 264,-68\"/>\r\n",
       "<text text-anchor=\"start\" x=\"174\" y=\"-52.8\" font-family=\"Helvetica,sans-Serif\" font-size=\"14.00\">gini = 0.346</text>\r\n",
       "<text text-anchor=\"start\" x=\"168\" y=\"-37.8\" font-family=\"Helvetica,sans-Serif\" font-size=\"14.00\">samples = 60</text>\r\n",
       "<text text-anchor=\"start\" x=\"155\" y=\"-22.8\" font-family=\"Helvetica,sans-Serif\" font-size=\"14.00\">value = [12, 47, 1]</text>\r\n",
       "<text text-anchor=\"start\" x=\"176.5\" y=\"-7.8\" font-family=\"Helvetica,sans-Serif\" font-size=\"14.00\">class = NO</text>\r\n",
       "</g>\r\n",
       "<!-- 1&#45;&gt;3 -->\r\n",
       "<g id=\"edge3\" class=\"edge\"><title>1&#45;&gt;3</title>\r\n",
       "<path fill=\"none\" stroke=\"black\" d=\"M165.055,-103.726C171.034,-94.879 177.365,-85.51 183.366,-76.6303\"/>\r\n",
       "<polygon fill=\"black\" stroke=\"black\" points=\"186.297,-78.5448 188.996,-68.2996 180.497,-74.6253 186.297,-78.5448\"/>\r\n",
       "</g>\r\n",
       "</g>\r\n",
       "</svg>\r\n"
      ],
      "text/plain": [
       "<graphviz.files.Source at 0x2840af05ac0>"
      ]
     },
     "execution_count": 15,
     "metadata": {},
     "output_type": "execute_result"
    }
   ],
   "source": [
    "clf = tree.DecisionTreeClassifier(max_depth = 2)\n",
    "clf.fit(x_train, y_train)\n",
    "\n",
    "dot_data = tree.export_graphviz(clf, feature_names=data.columns[: -1], class_names=labels, filled=True, \n",
    "                                out_file=None, rounded=True, special_characters=True)\n",
    "graph = graphviz.Source(dot_data)\n",
    "graph"
   ]
  },
  {
   "cell_type": "markdown",
   "metadata": {},
   "source": [
    "###  Obtain the metrics of the model"
   ]
  },
  {
   "cell_type": "code",
   "execution_count": 16,
   "metadata": {},
   "outputs": [
    {
     "name": "stdout",
     "output_type": "stream",
     "text": [
      "0.77451\n"
     ]
    },
    {
     "data": {
      "image/png": "[encoded data removed]",
      "text/plain": [
       "<Figure size 432x288 with 2 Axes>"
      ]
     },
     "metadata": {
      "needs_background": "light"
     },
     "output_type": "display_data"
    }
   ],
   "source": [
    "y_pred = clf.predict(x_test)\n",
    "print('%.5f' % (accuracy_score(y_test, y_pred)))\n",
    "plot = plot_confusion_matrix(clf, x_test, y_test, display_labels=labels, cmap=plt.cm.Blues,normalize='true')\n",
    "# plot.ax_.set_title('Default - normalized')\n",
    "# plt.savefig('default.jpg', format='jpg')"
   ]
  },
  {
   "cell_type": "markdown",
   "metadata": {},
   "source": [
    "---\n",
    "\n",
    "# Define the loop of parameters\n",
    "In this assignment, we will find the accuracy score of the model, with the combination of three variables.\n",
    "Afterwards, we will further analyze the models with top-4 in accuracy score"
   ]
  },
  {
   "cell_type": "code",
   "execution_count": 10,
   "metadata": {},
   "outputs": [],
   "source": [
    "max_depth_list = [1, 2, 3, 4, 5]\n",
    "min_weight_fraction_leaf_list = [0.0, 0.01, 0.02, 0.03]\n",
    "criterion_list = ['gini', 'entropy']\n",
    "\n",
    "random_state_list = [1, 9, 24, 59, 77, 120, 179, 252, 521, 999] \n",
    "# As result, the accuracy score of a combination will be the average score of five different splits"
   ]
  },
  {
   "cell_type": "code",
   "execution_count": 11,
   "metadata": {},
   "outputs": [
    {
     "name": "stdout",
     "output_type": "stream",
     "text": [
      "md-4-mw-0.03-cr-gini 0.82258\n",
      "md-5-mw-0.03-cr-gini 0.82258\n",
      "md-5-mw-0.02-cr-gini 0.80968\n",
      "md-4-mw-0.01-cr-gini 0.80806\n"
     ]
    }
   ],
   "source": [
    "# Store the average score of the combinations \n",
    "combination_score_list = {}\n",
    "\n",
    "for md in max_depth_list:\n",
    "    for mw in min_weight_fraction_leaf_list:\n",
    "        for cr in criterion_list:\n",
    "            # Create a key to indentify the score\n",
    "            key = 'md-%d-mw-%.2f-cr-%s' % (md, mw, cr)\n",
    "            total = 0.0\n",
    "            for rs in random_state_list:\n",
    "                x_train, x_test, y_train, y_test = train_test_split(x, y, \n",
    "                                                                    test_size=0.2, \n",
    "                                                                    random_state = rs)\n",
    "                clf = tree.DecisionTreeClassifier(\n",
    "                    max_depth = md,\n",
    "                    min_weight_fraction_leaf = mw,\n",
    "                    criterion = cr,\n",
    "                )\n",
    "                clf.fit(x_train, y_train)\n",
    "                y_pred = clf.predict(x_test)\n",
    "                total += accuracy_score(y_test, y_pred)\n",
    "            combination_score_list[key] = round(total / len(random_state_list), 5)\n",
    "            \n",
    "combination_score_list_ordered = dict(sorted(combination_score_list.items(), key=lambda item: item[1], reverse=True))\n",
    "\n",
    "i = 0\n",
    "for key, value in combination_score_list_ordered.items():\n",
    "    if i < 4:\n",
    "        print(key, value)\n",
    "        i += 1\n",
    "    else:\n",
    "        break"
   ]
  },
  {
   "cell_type": "markdown",
   "metadata": {},
   "source": [
    "As a result, we will use the following combinations for analysis\n",
    "1. max depth = 4, min leaf weight = 3%, gini\n",
    "2. max depth = 5, min leaf weight = 3%, gini\n",
    "3. max depth = 5, min leaf weight = 2%, gini\n",
    "4. max depth = 4, min leaf weight = 1%, gini"
   ]
  },
  {
   "cell_type": "code",
   "execution_count": 12,
   "metadata": {},
   "outputs": [],
   "source": [
    "c1 = {\n",
    "    'md': 4,\n",
    "    'mw': 0.03,\n",
    "    'cr': 'gini'\n",
    "}\n",
    "\n",
    "c2 = {\n",
    "    'md': 5,\n",
    "    'mw': 0.03,\n",
    "    'cr': 'gini'\n",
    "}\n",
    "\n",
    "c3 = {\n",
    "    'md': 5,\n",
    "    'mw': 0.02,\n",
    "    'cr': 'gini'\n",
    "}\n",
    "\n",
    "c4 = {\n",
    "    'md': 4,\n",
    "    'mw': 0.01,\n",
    "    'cr': 'gini'\n",
    "}\n",
    "\n",
    "combinations = [c1, c2, c3, c4]\n",
    "random_state_list = [1, 999] "
   ]
  },
  {
   "cell_type": "code",
   "execution_count": 50,
   "metadata": {},
   "outputs": [
    {
     "name": "stdout",
     "output_type": "stream",
     "text": [
      "md-4-mw-0.03-cr-gini-rs-1 0.8871\n",
      "md-4-mw-0.03-cr-gini-rs-999 0.80645\n",
      "md-5-mw-0.03-cr-gini-rs-1 0.85484\n",
      "md-5-mw-0.03-cr-gini-rs-999 0.79032\n",
      "md-5-mw-0.02-cr-gini-rs-1 0.8871\n",
      "md-5-mw-0.02-cr-gini-rs-999 0.79032\n",
      "md-4-mw-0.01-cr-gini-rs-1 0.87097\n",
      "md-4-mw-0.01-cr-gini-rs-999 0.80645\n"
     ]
    },
    {
     "data": {
      "image/png": "[encoded data removed]",
      "text/plain": [
       "<Figure size 432x288 with 2 Axes>"
      ]
     },
     "metadata": {
      "needs_background": "light"
     },
     "output_type": "display_data"
    },
    {
     "data": {
      "image/png": "[encoded data removed]",
      "text/plain": [
       "<Figure size 432x288 with 2 Axes>"
      ]
     },
     "metadata": {
      "needs_background": "light"
     },
     "output_type": "display_data"
    },
    {
     "data": {
      "image/png": "[encoded data removed]",
      "text/plain": [
       "<Figure size 432x288 with 2 Axes>"
      ]
     },
     "metadata": {
      "needs_background": "light"
     },
     "output_type": "display_data"
    },
    {
     "data": {
      "image/png": "[encoded data removed]",
      "text/plain": [
       "<Figure size 432x288 with 2 Axes>"
      ]
     },
     "metadata": {
      "needs_background": "light"
     },
     "output_type": "display_data"
    },
    {
     "data": {
      "image/png": "[encoded data removed]",
      "text/plain": [
       "<Figure size 432x288 with 2 Axes>"
      ]
     },
     "metadata": {
      "needs_background": "light"
     },
     "output_type": "display_data"
    },
    {
     "data": {
      "image/png": "[encoded data removed]",
      "text/plain": [
       "<Figure size 432x288 with 2 Axes>"
      ]
     },
     "metadata": {
      "needs_background": "light"
     },
     "output_type": "display_data"
    },
    {
     "data": {
      "image/png": "[encoded data removed]",
      "text/plain": [
       "<Figure size 432x288 with 2 Axes>"
      ]
     },
     "metadata": {
      "needs_background": "light"
     },
     "output_type": "display_data"
    },
    {
     "data": {
      "image/png": "[encoded data removed]",
      "text/plain": [
       "<Figure size 432x288 with 2 Axes>"
      ]
     },
     "metadata": {
      "needs_background": "light"
     },
     "output_type": "display_data"
    }
   ],
   "source": [
    "# Will generate tree graph\n",
    "for c in combinations:\n",
    "    for rs in random_state_list:\n",
    "        key = 'md-%d-mw-%.2f-cr-%s-rs-%d' % (c['md'], c['mw'], c['cr'], rs)\n",
    "        \n",
    "        #Split the data set\n",
    "        x_train, x_test, y_train, y_test = train_test_split(x, y, \n",
    "                                                    test_size=0.2, \n",
    "                                                    random_state = rs)\n",
    "        \n",
    "        #Build the model\n",
    "        clf = tree.DecisionTreeClassifier(\n",
    "            max_depth = c['md'],\n",
    "            min_weight_fraction_leaf = c['mw'],\n",
    "            criterion = c['cr'],\n",
    "        )\n",
    "        clf.fit(x_train, y_train)\n",
    "        \n",
    "        #Test accuracy\n",
    "        y_pred = clf.predict(x_test)\n",
    "        print(key, round(accuracy_score(y_test, y_pred), 5))\n",
    "        \n",
    "        #Plot the tree\n",
    "        dot_data = tree.export_graphviz(clf, feature_names=data.columns[: -1], class_names=labels, filled=True, \n",
    "                                out_file=None, rounded=True, special_characters=True)\n",
    "        graph = graphviz.Source(dot_data)\n",
    "        graph.render('./tree/tree-%s'%key, format = 'png')\n",
    "        \n",
    "        #Plot the Confusion matrix\n",
    "        plot = plot_confusion_matrix(clf, x_test, y_test, display_labels=labels, cmap=plt.cm.Blues,normalize='true')\n",
    "        plot.ax_.set_title('%s - normalized' % key)\n",
    "        plt.savefig('./confusion-matrix/confusion-matrix-%s.jpg' % key, format='jpg')\n",
    "        \n",
    "        #Export the decision path\n",
    "        np.savetxt(\"./excel/%s-x_test.csv\" % (key), clf.decision_path(x_test).toarray().astype('int'), delimiter=\",\")\n",
    "        np.savetxt(\"./excel/%s-y_test.csv\" % (key), y_test.astype('int'), delimiter=\",\")"
   ]
  },
  {
   "cell_type": "code",
   "execution_count": 49,
   "metadata": {
    "scrolled": true
   },
   "outputs": [],
   "source": []
  }
 ],
 "metadata": {
  "kernelspec": {
   "display_name": "Python 3",
   "language": "python",
   "name": "python3"
  },
  "language_info": {
   "codemirror_mode": {
    "name": "ipython",
    "version": 3
   },
   "file_extension": ".py",
   "mimetype": "text/x-python",
   "name": "python",
   "nbconvert_exporter": "python",
   "pygments_lexer": "ipython3",
   "version": "3.8.5"
  }
 },
 "nbformat": 4,
 "nbformat_minor": 4
}
